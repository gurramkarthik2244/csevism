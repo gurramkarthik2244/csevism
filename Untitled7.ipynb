{
  "nbformat": 4,
  "nbformat_minor": 0,
  "metadata": {
    "colab": {
      "provenance": [],
      "authorship_tag": "ABX9TyPOCAxTvBoTHld1tndcf/NZ",
      "include_colab_link": true
    },
    "kernelspec": {
      "name": "python3",
      "display_name": "Python 3"
    },
    "language_info": {
      "name": "python"
    }
  },
  "cells": [
    {
      "cell_type": "markdown",
      "metadata": {
        "id": "view-in-github",
        "colab_type": "text"
      },
      "source": [
        "<a href=\"https://colab.research.google.com/github/gurramkarthik2244/csevism/blob/master/Untitled7.ipynb\" target=\"_parent\"><img src=\"https://colab.research.google.com/assets/colab-badge.svg\" alt=\"Open In Colab\"/></a>"
      ]
    },
    {
      "cell_type": "code",
      "execution_count": 3,
      "metadata": {
        "colab": {
          "base_uri": "https://localhost:8080/"
        },
        "id": "IguX9hpjG6w8",
        "outputId": "0692b8d4-e565-4a8d-a26f-02feb040bdfd"
      },
      "outputs": [
        {
          "output_type": "stream",
          "name": "stdout",
          "text": [
            "updated temparatures: [34, 40, 42, 33, 29, 37, 39]\n"
          ]
        }
      ],
      "source": [
        "temparatures = [34,40,29,33,42,37,39]\n",
        "max_temp_index = temparatures.index(max(temparatures))\n",
        "min_temp_index = temparatures.index(min(temparatures))\n",
        "temparatures[max_temp_index],temparatures[min_temp_index] = temparatures[min_temp_index],temparatures[max_temp_index]\n",
        "print(\"updated temparatures:\",temparatures)"
      ]
    },
    {
      "cell_type": "code",
      "source": [
        "prices = [400,400,250,800,550,600,0,600,820,720,1500,360,250]\n",
        "mean = sum(prices) / len(prices)\n",
        "sorted_prices = sorted (prices)\n",
        "n = len(sorted_prices)\n",
        "if n % 2 == 0:\n",
        "    median = (sorted_prices[n // 2 - 1] + sorted_prices[n // 2]) / 2\n",
        "else:\n",
        "    median = sorted_prices[n // 2]\n",
        "print(\"mean:\",mean)\n",
        "print(\"median:\",median)"
      ],
      "metadata": {
        "colab": {
          "base_uri": "https://localhost:8080/"
        },
        "id": "tOyEFBsCG73L",
        "outputId": "3008d429-51cf-4b63-b57d-c519b365dab0"
      },
      "execution_count": 7,
      "outputs": [
        {
          "output_type": "stream",
          "name": "stdout",
          "text": [
            "mean: 557.6923076923077\n",
            "median: 550\n"
          ]
        }
      ]
    },
    {
      "cell_type": "code",
      "source": [
        "tech_companies = ['questions','google','apple',['nutie','cisco','samsung']]\n",
        "flattened_list = []\n",
        "for item in tech_companies:\n",
        "  if isinstance(item,list):\n",
        "   flattened_list.extend(item)\n",
        "  else:\n",
        "    flattened_list.append(item)\n",
        "corrected_list = []\n",
        "for company in flattened_list:\n",
        "  if company == 'questions':\n",
        "    corrected_list.append('Nordice')\n",
        "  elif company == 'sunsuny':\n",
        "    corrected_list.append('samsung')\n",
        "  else:\n",
        "    corrected_list.append(company)\n",
        "if 'Qualcomm' not in corrected_list:\n",
        "  corrected_list.append('Qualcomm')\n",
        "correct_tech_comapnies = corrected_list\n",
        "print(\"corrected tech companies:\",correct_tech_comapnies)\n"
      ],
      "metadata": {
        "colab": {
          "base_uri": "https://localhost:8080/"
        },
        "id": "1ZPC0ZIeKJx1",
        "outputId": "bb75b5c1-7e34-4578-f817-0d2ea2224356"
      },
      "execution_count": 15,
      "outputs": [
        {
          "output_type": "stream",
          "name": "stdout",
          "text": [
            "corrected tech companies: ['Nordice', 'google', 'apple', 'nutie', 'cisco', 'samsung', 'Qualcomm']\n"
          ]
        }
      ]
    },
    {
      "cell_type": "code",
      "source": [],
      "metadata": {
        "id": "Y0EDpj45Jjz9"
      },
      "execution_count": null,
      "outputs": []
    },
    {
      "cell_type": "code",
      "source": [],
      "metadata": {
        "id": "EtfM6V3UJfom"
      },
      "execution_count": null,
      "outputs": []
    }
  ]
}